{
 "cells": [
  {
   "cell_type": "code",
   "execution_count": 5,
   "metadata": {},
   "outputs": [],
   "source": [
    "import functools\n",
    "import typing\n",
    "\n",
    "tests = [\n",
    "    (1, 0),\n",
    "    (12, 3),\n",
    "    (23, 2),\n",
    "    (1024, 31),\n",
    "]\n",
    "\n",
    "def run_tests(func: typing.Callable, tests: typing.Iterable[typing.Tuple[typing.Any, typing.Any]] = tests) -> None:\n",
    "    for i, test_case in enumerate(tests):\n",
    "        test_input, test_output = test_case\n",
    "        result = func(test_input)\n",
    "        try:\n",
    "            assert(result == test_output)\n",
    "        except AssertionError:\n",
    "            print(f'Test {i} failed: {result} != {test_output}')\n",
    "\n",
    "puzzle_input = 368078\n"
   ]
  },
  {
   "cell_type": "code",
   "execution_count": null,
   "metadata": {},
   "outputs": [],
   "source": []
  },
  {
   "cell_type": "code",
   "execution_count": null,
   "metadata": {},
   "outputs": [],
   "source": []
  },
  {
   "cell_type": "code",
   "execution_count": 19,
   "metadata": {},
   "outputs": [],
   "source": [
    "cached_dist = {0: 0}\n",
    "\n",
    "class DoneCounting(Exception):\n",
    "    pass\n",
    "\n",
    "\n",
    "def calculate_distance(target: int) -> int:\n",
    "    target -= 1\n",
    "    if not target in cached_dist:\n",
    "        counter = 0\n",
    "        x = 0\n",
    "        y = 0\n",
    "        max_x = 0\n",
    "        max_y = 0\n",
    "        min_x = 0\n",
    "        min_y = 0\n",
    "        dx = 1\n",
    "        dy = 0\n",
    "        while counter < target:\n",
    "            counter += 1\n",
    "            x += dx\n",
    "            y += dy\n",
    "#             print(f'({x}, {y}) => {counter+1} (max_x:{max_x}, max_y:{max_y})')\n",
    "            if x > max_x:\n",
    "#                 print('^')\n",
    "                max_x = x\n",
    "                dx = 0\n",
    "                dy = 1\n",
    "            elif y > max_y:\n",
    "#                 print('<')\n",
    "                max_y = y\n",
    "                dx = -1\n",
    "                dy = 0\n",
    "            elif x < min_x:\n",
    "#                 print('v')\n",
    "                min_x = x\n",
    "                dx = 0\n",
    "                dy = -1\n",
    "            elif y < min_y:\n",
    "#                 print('>')\n",
    "                min_y = y\n",
    "                dx = 1\n",
    "                dy = 0\n",
    "            cached_dist[target] = abs(x) + abs(y)\n",
    "    return cached_dist[target]\n",
    "    \n",
    "run_tests(calculate_distance, tests)"
   ]
  },
  {
   "cell_type": "code",
   "execution_count": 20,
   "metadata": {},
   "outputs": [
    {
     "data": {
      "text/plain": [
       "371"
      ]
     },
     "execution_count": 20,
     "metadata": {},
     "output_type": "execute_result"
    }
   ],
   "source": [
    "calculate_distance(368078)"
   ]
  },
  {
   "cell_type": "code",
   "execution_count": 29,
   "metadata": {},
   "outputs": [
    {
     "data": {
      "text/plain": [
       "369601"
      ]
     },
     "execution_count": 29,
     "metadata": {},
     "output_type": "execute_result"
    }
   ],
   "source": [
    "MemoryType = typing.MutableMapping[typing.Tuple[int, int], int]\n",
    "\n",
    "memory: MemoryType = {\n",
    "    (0, 0): 1\n",
    "}\n",
    "\n",
    "def get_adjacent_squares(memory: MemoryType, coord: typing.Tuple[int, int]) -> typing.Iterable[int]:\n",
    "    for x in (coord[0]-1, coord[0], coord[0]+1):\n",
    "        for y in (coord[1]-1, coord[1], coord[1]+1):\n",
    "            if (x, y) in memory:\n",
    "                yield memory[(x, y)]\n",
    "    \n",
    "def get_biggest_value(target: int) -> int:\n",
    "    counter = 0\n",
    "    x = 0\n",
    "    y = 0\n",
    "    max_x = 0\n",
    "    max_y = 0\n",
    "    min_x = 0\n",
    "    min_y = 0\n",
    "    dx = 1\n",
    "    dy = 0\n",
    "    while True:\n",
    "        counter += 1\n",
    "        x += dx\n",
    "        y += dy\n",
    "        if x > max_x:\n",
    "            max_x = x\n",
    "            dx = 0\n",
    "            dy = 1\n",
    "        elif y > max_y:\n",
    "            max_y = y\n",
    "            dx = -1\n",
    "            dy = 0\n",
    "        elif x < min_x:\n",
    "            min_x = x\n",
    "            dx = 0\n",
    "            dy = -1\n",
    "        elif y < min_y:\n",
    "            min_y = y\n",
    "            dx = 1\n",
    "            dy = 0\n",
    "        if not (x, y) in memory:\n",
    "            memory[(x, y)] = sum(get_adjacent_squares(memory, (x, y)))\n",
    "        if memory[(x, y)] > target:\n",
    "            return memory[(x, y)]\n",
    "    \n",
    "get_biggest_value(368078)\n",
    "# print(memory)"
   ]
  },
  {
   "cell_type": "code",
   "execution_count": 27,
   "metadata": {},
   "outputs": [
    {
     "data": {
      "text/plain": [
       "0"
      ]
     },
     "execution_count": 27,
     "metadata": {},
     "output_type": "execute_result"
    }
   ],
   "source": [
    "memory[(1, 0)]"
   ]
  }
 ],
 "metadata": {
  "kernelspec": {
   "display_name": "Python 3",
   "language": "python",
   "name": "python3"
  },
  "language_info": {
   "codemirror_mode": {
    "name": "ipython",
    "version": 3
   },
   "file_extension": ".py",
   "mimetype": "text/x-python",
   "name": "python",
   "nbconvert_exporter": "python",
   "pygments_lexer": "ipython3",
   "version": "3.6.3"
  }
 },
 "nbformat": 4,
 "nbformat_minor": 2
}
