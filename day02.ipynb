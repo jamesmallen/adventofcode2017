{
 "cells": [
  {
   "cell_type": "code",
   "execution_count": 3,
   "metadata": {},
   "outputs": [],
   "source": [
    "import functools\n",
    "import typing\n",
    "\n",
    "tests = [\n",
    "    (r'''5 1 9 5\n",
    "7 5 3\n",
    "2 4 6 8\n",
    "''', 18),\n",
    "]\n",
    "\n",
    "def run_tests(func: typing.Callable) -> None:\n",
    "    for i, test_case in enumerate(tests):\n",
    "        test_input, test_output = test_case\n",
    "        result = func(test_input)\n",
    "        try:\n",
    "            assert(result == test_output)\n",
    "        except AssertionError:\n",
    "            print(f'Test {i} failed: {result} != {test_output}')\n",
    "\n",
    "puzzle_input = r'''104\t240\t147\t246\t123\t175\t372\t71\t116\t230\t260\t118\t202\t270\t277\t292\n",
    "740\t755\t135\t205\t429\t822\t844\t90\t828\t115\t440\t805\t526\t91\t519\t373\n",
    "1630\t991\t1471\t1294\t52\t1566\t50\t1508\t1367\t1489\t55\t547\t342\t512\t323\t51\n",
    "1356\t178\t1705\t119\t1609\t1409\t245\t292\t1434\t694\t405\t1692\t247\t193\t1482\t1407\n",
    "2235\t3321\t3647\t212\t1402\t3711\t3641\t1287\t2725\t692\t1235\t3100\t123\t144\t104\t101\n",
    "1306\t1224\t1238\t186\t751\t734\t1204\t1275\t366\t149\t1114\t166\t1118\t239\t153\t943\n",
    "132\t1547\t1564\t512\t2643\t2376\t2324\t2159\t1658\t107\t1604\t145\t2407\t131\t2073\t1878\n",
    "1845\t91\t1662\t108\t92\t1706\t1815\t1797\t1728\t1150\t1576\t83\t97\t547\t1267\t261\n",
    "78\t558\t419\t435\t565\t107\t638\t173\t93\t580\t338\t52\t633\t256\t377\t73\n",
    "1143\t3516\t4205\t3523\t148\t401\t3996\t3588\t300\t1117\t2915\t1649\t135\t134\t182\t267\n",
    "156\t2760\t1816\t2442\t2985\t990\t2598\t1273\t167\t821\t138\t141\t2761\t2399\t1330\t1276\n",
    "3746\t3979\t2989\t161\t4554\t156\t3359\t173\t3319\t192\t3707\t264\t762\t2672\t4423\t2924\n",
    "3098\t4309\t4971\t5439\t131\t171\t5544\t595\t154\t571\t4399\t4294\t160\t6201\t4329\t5244\n",
    "728\t249\t1728\t305\t2407\t239\t691\t2241\t2545\t1543\t55\t2303\t1020\t753\t193\t1638\n",
    "260\t352\t190\t877\t118\t77\t1065\t1105\t1085\t1032\t71\t87\t851\t56\t1161\t667\n",
    "1763\t464\t182\t1932\t1209\t640\t545\t931\t1979\t197\t1774\t174\t2074\t1800\t939\t161'''\n"
   ]
  },
  {
   "cell_type": "code",
   "execution_count": 7,
   "metadata": {},
   "outputs": [],
   "source": [
    "def parse_spreadsheet(spreadsheet: str) -> typing.Sequence[typing.Sequence[int]]:\n",
    "    \"\"\"Converts spreadsheet str into a 2d array-ish of ints, indexed by [row][col]\"\"\"\n",
    "    ret = []\n",
    "    for row in spreadsheet.split('\\n'):\n",
    "        if row.strip():\n",
    "            ret.append([int(col) for col in row.strip().split()])\n",
    "    return ret\n",
    "\n",
    "parse_spreadsheet(puzzle_input)\n",
    "\n",
    "def compute_checksum(spreadsheet: str) -> int:\n",
    "    checksum = 0\n",
    "    for row in parse_spreadsheet(spreadsheet):\n",
    "        checksum += (max(row) - min(row))\n",
    "    return checksum"
   ]
  },
  {
   "cell_type": "code",
   "execution_count": 8,
   "metadata": {},
   "outputs": [],
   "source": [
    "run_tests(compute_checksum)"
   ]
  },
  {
   "cell_type": "code",
   "execution_count": 9,
   "metadata": {},
   "outputs": [
    {
     "data": {
      "text/plain": [
       "36766"
      ]
     },
     "execution_count": 9,
     "metadata": {},
     "output_type": "execute_result"
    }
   ],
   "source": [
    "compute_checksum(puzzle_input)"
   ]
  },
  {
   "cell_type": "code",
   "execution_count": 17,
   "metadata": {},
   "outputs": [
    {
     "name": "stdout",
     "output_type": "stream",
     "text": [
      "8/2\n",
      "8/2\n",
      "9/3\n",
      "6/3\n"
     ]
    }
   ],
   "source": [
    "tests = [\n",
    "    (r'''5 9 2 8\n",
    "9 4 7 3\n",
    "3 8 6 5\n",
    "''', 9)\n",
    "]\n",
    "\n",
    "def evenly_divisible(row: typing.Sequence[int]) -> int:\n",
    "    for divisor in row:\n",
    "        for dividend in row:\n",
    "            if divisor != dividend and divisor % dividend == 0:\n",
    "                print(f'{divisor}/{dividend}')\n",
    "                return int(divisor / dividend)\n",
    "\n",
    "def evenly_divisible_checksum(spreadsheet: str) -> int:\n",
    "    checksum = 0\n",
    "    for row in parse_spreadsheet(spreadsheet):\n",
    "        checksum += evenly_divisible(row)\n",
    "    return checksum\n",
    "        \n",
    "evenly_divisible([5, 9, 2, 8])\n",
    "\n",
    "run_tests(evenly_divisible_checksum)"
   ]
  },
  {
   "cell_type": "code",
   "execution_count": 18,
   "metadata": {},
   "outputs": [
    {
     "name": "stdout",
     "output_type": "stream",
     "text": [
      "246/123\n",
      "805/115\n",
      "1508/52\n",
      "1482/247\n",
      "3321/123\n",
      "1224/153\n",
      "2376/132\n",
      "1728/108\n",
      "558/93\n",
      "3996/148\n",
      "2760/138\n",
      "3979/173\n",
      "5544/154\n",
      "2241/249\n",
      "1065/71\n",
      "1932/161\n"
     ]
    },
    {
     "data": {
      "text/plain": [
       "261"
      ]
     },
     "execution_count": 18,
     "metadata": {},
     "output_type": "execute_result"
    }
   ],
   "source": [
    "evenly_divisible_checksum(puzzle_input)"
   ]
  }
 ],
 "metadata": {
  "kernelspec": {
   "display_name": "Python 3",
   "language": "python",
   "name": "python3"
  },
  "language_info": {
   "codemirror_mode": {
    "name": "ipython",
    "version": 3
   },
   "file_extension": ".py",
   "mimetype": "text/x-python",
   "name": "python",
   "nbconvert_exporter": "python",
   "pygments_lexer": "ipython3",
   "version": "3.6.3"
  }
 },
 "nbformat": 4,
 "nbformat_minor": 2
}
